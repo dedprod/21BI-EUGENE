{
  "nbformat": 4,
  "nbformat_minor": 0,
  "metadata": {
    "colab": {
      "name": "Суворов_Евгений_21БИ1.ipynb",
      "provenance": [],
      "authorship_tag": "ABX9TyNfXpsckq8K+DLJ8V8bsLR4",
      "include_colab_link": true
    },
    "kernelspec": {
      "name": "python3",
      "display_name": "Python 3"
    },
    "language_info": {
      "name": "python"
    }
  },
  "cells": [
    {
      "cell_type": "markdown",
      "metadata": {
        "id": "view-in-github",
        "colab_type": "text"
      },
      "source": [
        "<a href=\"https://colab.research.google.com/github/dedprod/21BI-EUGENE/blob/main/%D0%A1%D1%83%D0%B2%D0%BE%D1%80%D0%BE%D0%B2_%D0%95%D0%B2%D0%B3%D0%B5%D0%BD%D0%B8%D0%B9_21%D0%91%D0%981.ipynb\" target=\"_parent\"><img src=\"https://colab.research.google.com/assets/colab-badge.svg\" alt=\"Open In Colab\"/></a>"
      ]
    },
    {
      "cell_type": "code",
      "metadata": {
        "colab": {
          "base_uri": "https://localhost:8080/"
        },
        "id": "MvK5noOhR7LD",
        "outputId": "aeb2f986-5dbb-48a2-b957-5326439bee39"
      },
      "source": [
        "#2\n",
        "from google.colab import drive\n",
        "drive.mount('/content/drive')\n",
        "f = open('/content/drive/MyDrive/1.txt','r')\n",
        "text= f.read()\n",
        "line= text.split()\n",
        "print('Кол-во слов тексте:', len(line))"
      ],
      "execution_count": 32,
      "outputs": [
        {
          "output_type": "stream",
          "name": "stdout",
          "text": [
            "Кол-во слов тексте: 59\n"
          ]
        }
      ]
    },
    {
      "cell_type": "code",
      "metadata": {
        "colab": {
          "base_uri": "https://localhost:8080/"
        },
        "id": "tXpPC3QgYvS0",
        "outputId": "e870606a-7134-475a-bc09-5488afc23407"
      },
      "source": [
        "#3\n",
        "from google.colab import drive\n",
        "drive.mount('/content/drive')\n",
        "f = open('/content/drive/MyDrive/2.txt','r')\n",
        "text = f.read()\n",
        "line=text.split('\\n')\n",
        "line.sort()\n",
        "for x in line: print(x)\n"
      ],
      "execution_count": 38,
      "outputs": [
        {
          "output_type": "stream",
          "name": "stdout",
          "text": [
            "Аладьина Полина\n",
            "Артюшин Александр\n",
            "Бабанин Григорий\n",
            "Бадягин Дмитрий\n",
            "Белогузова Алина \n",
            "Беспалов Авдей\n",
            "Гераськина Елизавета\n",
            "Гладкая Алиса \n",
            "Жансагимова Индира\n",
            "Козлова Дарья \n",
            "Соловьев Егор \n",
            "Яблоков Артем\n"
          ]
        }
      ]
    },
    {
      "cell_type": "code",
      "metadata": {
        "colab": {
          "base_uri": "https://localhost:8080/"
        },
        "id": "_ieSioIag39k",
        "outputId": "e21794cc-5234-49e5-fa3c-47bc140256a3"
      },
      "source": [
        "#* (Три числа)\n",
        "for \n",
        "f= input().split()\n",
        "f.sort()\n",
        "print(f)"
      ],
      "execution_count": 33,
      "outputs": [
        {
          "output_type": "stream",
          "name": "stdout",
          "text": [
            "56\n",
            "['56']\n"
          ]
        }
      ]
    }
  ]
}